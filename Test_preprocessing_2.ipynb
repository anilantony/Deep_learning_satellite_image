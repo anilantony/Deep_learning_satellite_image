{
 "cells": [
  {
   "cell_type": "code",
   "execution_count": 3,
   "metadata": {},
   "outputs": [],
   "source": [
    "import numpy as np\n",
    "import matplotlib.pyplot as plt\n",
    "import rasterio\n",
    "from rasterio.mask import mask\n",
    "import geopandas as gpd\n",
    "from shapely.geometry import mapping"
   ]
  },
  {
   "cell_type": "markdown",
   "metadata": {},
   "source": [
    "What is the use of os in python "
   ]
  },
  {
   "cell_type": "code",
   "execution_count": 4,
   "metadata": {},
   "outputs": [
    {
     "data": {
      "text/plain": [
       "['Landsat image 2013/All_bands\\\\LC08_L1TP_141041_20130326_20170505_01_T1_B1.TIF',\n",
       " 'Landsat image 2013/All_bands\\\\LC08_L1TP_141041_20130326_20170505_01_T1_B2.TIF',\n",
       " 'Landsat image 2013/All_bands\\\\LC08_L1TP_141041_20130326_20170505_01_T1_B3.TIF',\n",
       " 'Landsat image 2013/All_bands\\\\LC08_L1TP_141041_20130326_20170505_01_T1_B4.TIF',\n",
       " 'Landsat image 2013/All_bands\\\\LC08_L1TP_141041_20130326_20170505_01_T1_B5.TIF',\n",
       " 'Landsat image 2013/All_bands\\\\LC08_L1TP_141041_20130326_20170505_01_T1_B6.TIF',\n",
       " 'Landsat image 2013/All_bands\\\\LC08_L1TP_141041_20130326_20170505_01_T1_B7.TIF',\n",
       " 'Landsat image 2013/All_bands\\\\LC08_L1TP_141041_20130326_20170505_01_T1_B8.TIF']"
      ]
     },
     "execution_count": 4,
     "metadata": {},
     "output_type": "execute_result"
    }
   ],
   "source": [
    "import os\n",
    "Landsat_folder_path=(\"Landsat image 2013/All_bands\")\n",
    "# print(Landsat_folder_path)\n",
    "\n",
    "# Landsat_band_path \n",
    "Landsat_bands_path=[os.path.join(Landsat_folder_path,i) \n",
    "               for i in os.listdir(Landsat_folder_path) if os.path.isfile(os.path.join(Landsat_folder_path,i))]\n",
    "\n",
    "Landsat_bands_path.sort()  \n",
    "Landsat_bands_path    "
   ]
  },
  {
   "cell_type": "markdown",
   "metadata": {},
   "source": [
    "Now we need a rasterio dataset object containing all bands in order to use the mask() function and extract pixel values using geospatial polygons.\n",
    "\n",
    "We'll do this by creating a new raster dataset and saving it for future uses.\n"
   ]
  },
  {
   "cell_type": "code",
   "execution_count": 10,
   "metadata": {},
   "outputs": [
    {
     "name": "stdout",
     "output_type": "stream",
     "text": [
      "data/products/Landsat_bands_composite.tif\n",
      "{'driver': 'GTiff', 'dtype': 'uint16', 'nodata': None, 'width': 7441, 'height': 7421, 'count': 1, 'crs': CRS.from_dict(init='epsg:32645'), 'transform': Affine(30.0, 0.0, 237585.0,\n",
      "       0.0, -30.0, 3146115.0)}\n",
      "{'driver': 'GTiff', 'dtype': 'uint16', 'nodata': None, 'width': 7441, 'height': 7421, 'count': 8, 'crs': CRS.from_dict(init='epsg:32645'), 'transform': Affine(30.0, 0.0, 237585.0,\n",
      "       0.0, -30.0, 3146115.0)}\n"
     ]
    }
   ],
   "source": [
    "# create a products directory within the data dir which won't be uploaded to Github\n",
    "image_dir= \"data/products/\"\n",
    "\n",
    "# check to see if the dir it exists, if not, create it\n",
    "if not os.path.exists(image_dir):\n",
    "    os.makedirs(image_dir)\n",
    "    \n",
    "# filepath for image we're writing out\n",
    "image_folder_path=image_dir+\"Landsat_bands_composite.tif\"\n",
    "print(image_folder_path)\n",
    "\n",
    "\n",
    "# Read metadata of first file and assume all other bands are the same\n",
    "with rasterio.open(Landsat_bands_path[0]) as Land_band_0:\n",
    "    meta_data=Land_band_0.meta\n",
    "    \n",
    "\n",
    "# Update metadata to reflect the number of layers\n",
    "print(meta_data) \n",
    "meta_data.update({\"count\":len(Landsat_bands_path)})\n",
    "print(meta_data)\n",
    "# OR\n",
    "# meta_data.update(count=len(Landsat_bands_path))\n",
    "# print(meta_data)\n",
    "\n",
    "# Read each layer and write it to stack\n",
    "with rasterio.open(image_folder_path, 'w', **meta_data) as composite_band:\n",
    "    for count, layer in enumerate(Landsat_bands_path, start=1):\n",
    "        with rasterio.open(layer) as Land_band_1:\n",
    "            composite_band.write_band(count, Land_band_1.read(1)) #read to convert into array"
   ]
  },
  {
   "cell_type": "code",
   "execution_count": 191,
   "metadata": {},
   "outputs": [
    {
     "name": "stdout",
     "output_type": "stream",
     "text": [
      "(7421, 7441)\n",
      "8\n"
     ]
    }
   ],
   "source": [
    "composite=rasterio.open(image_folder_path)\n",
    "print(composite.shape)\n",
    "print(composite.count)"
   ]
  },
  {
   "cell_type": "markdown",
   "metadata": {},
   "source": [
    "\n",
    "\n",
    "Let's clip the image and take a look where we know the training data was from the last lesson (on the NC Rachel Carson Reserve) just to make sure it looks normal:\n"
   ]
  },
  {
   "cell_type": "code",
   "execution_count": 31,
   "metadata": {},
   "outputs": [
    {
     "name": "stderr",
     "output_type": "stream",
     "text": [
      "Clipping input data to the valid range for imshow with RGB data ([0..1] for floats or [0..255] for integers).\n"
     ]
    },
    {
     "name": "stdout",
     "output_type": "stream",
     "text": [
      "(3, 450, 1150)\n"
     ]
    },
    {
     "data": {
      "text/plain": [
       "<matplotlib.axes._subplots.AxesSubplot at 0x151008821d0>"
      ]
     },
     "execution_count": 31,
     "metadata": {},
     "output_type": "execute_result"
    },
    {
     "data": {
      "image/png": "[encoded data removed]",
      "text/plain": [
       "<Figure size 720x504 with 1 Axes>"
      ]
     },
     "metadata": {
      "needs_background": "light"
     },
     "output_type": "display_data"
    }
   ],
   "source": [
    "from rasterio.plot import show\n",
    "\n",
    "composite_in_array=composite.read([4,3,2])[:, 150:600, 250:1400]# Only read three of the bands and selective heightand width\n",
    "print(composite_in_array.shape)\n",
    "\n",
    "# Lets plot the raster now\n",
    "fig,ax=plt.subplots(figsize=(10,7))\n",
    "show(composite_in_array[:, :, :], ax=ax, transform=composite.transform) \n"
   ]
  },
  {
   "cell_type": "markdown",
   "metadata": {},
   "source": [
    "\n",
    "\n",
    "Okay looks good! Our raster dataset is ready!\n",
    "Now our goal is to get the pixels from the raster as outlined in each shapefile.\n",
    "\n",
    "Our training data, the shapefile we've worked with, contains one main field we care about:\n",
    "\n",
    "   a Classname field (String datatype)\n",
    "\n",
    "Combined with the innate location information of polygons in a Shapefile, we have all that we need to use for pairing labels with the information in our raster.\n",
    "\n",
    "However, in order to pair up our vector data with our raster pixels, we will need a way of co-aligning the datasets in space.\n",
    "\n",
    "We'll do this using the rasterio mask function which takes in a dataset and a polygon and then outputs a numpy array with the pixels in the polygon.\n",
    "\n",
    "Let's run through an example:\n"
   ]
  },
  {
   "cell_type": "code",
   "execution_count": 32,
   "metadata": {},
   "outputs": [
    {
     "data": {
      "text/plain": [
       "CRS.from_dict(init='epsg:32645')"
      ]
     },
     "execution_count": 32,
     "metadata": {},
     "output_type": "execute_result"
    }
   ],
   "source": [
    "composite.crs"
   ]
  },
  {
   "cell_type": "code",
   "execution_count": 156,
   "metadata": {},
   "outputs": [
    {
     "data": {
      "text/plain": [
       "{'init': 'epsg:32645'}"
      ]
     },
     "execution_count": 156,
     "metadata": {},
     "output_type": "execute_result"
    }
   ],
   "source": [
    "kathmandu_shapefile=gpd.read_file(r\"C:\\Users\\user\\Downloads\\GIS_self_project\\kathmandu_classified_deep_learning.shp\")\n",
    "kathmandu_shapefile.crs"
   ]
  },
  {
   "cell_type": "code",
   "execution_count": 157,
   "metadata": {},
   "outputs": [],
   "source": [
    "kathmandu_shapefile=kathmandu_shapefile.to_crs({\"init\":\"epsg:32645\"})"
   ]
  },
  {
   "cell_type": "code",
   "execution_count": 158,
   "metadata": {},
   "outputs": [
    {
     "data": {
      "text/plain": [
       "17405"
      ]
     },
     "execution_count": 158,
     "metadata": {},
     "output_type": "execute_result"
    }
   ],
   "source": [
    "len(kathmandu_shapefile)"
   ]
  },
  {
   "cell_type": "code",
   "execution_count": 201,
   "metadata": {},
   "outputs": [
    {
     "data": {
      "text/plain": [
       "Index(['OBJECTID', 'Id', 'Classname', 'Shape_Leng', 'Shape_Area', 'geometry'], dtype='object')"
      ]
     },
     "execution_count": 201,
     "metadata": {},
     "output_type": "execute_result"
    }
   ],
   "source": [
    "kathmandu_shapefile.columns"
   ]
  },
  {
   "cell_type": "code",
   "execution_count": 198,
   "metadata": {},
   "outputs": [
    {
     "data": {
      "text/plain": [
       "26"
      ]
     },
     "execution_count": 198,
     "metadata": {},
     "output_type": "execute_result"
    }
   ],
   "source": [
    "kathmandu_shapefile[\"Classname\"][14]\n"
   ]
  },
  {
   "cell_type": "markdown",
   "metadata": {},
   "source": [
    "Now we want to extract the geometry of each feature in the shapefile in GeoJSON format:"
   ]
  },
  {
   "cell_type": "code",
   "execution_count": 159,
   "metadata": {},
   "outputs": [
    {
     "name": "stdout",
     "output_type": "stream",
     "text": [
      "[[1 1 1 180.000000002 1800.00000003\n",
      "  <shapely.geometry.polygon.Polygon object at 0x0000015101FE20F0>]\n",
      " [2 2 1 330.730401102 4658.2611777\n",
      "  <shapely.geometry.polygon.Polygon object at 0x0000015101FE2E80>]\n",
      " [3 3 1 119.999999996 899.999999944\n",
      "  <shapely.geometry.polygon.Polygon object at 0x0000015101FE2E10>]\n",
      " ...\n",
      " [17403 17403 1 120.0 900.0\n",
      "  <shapely.geometry.polygon.Polygon object at 0x00000151024DD748>]\n",
      " [17404 17404 1 807.749932817 14816.5819543\n",
      "  <shapely.geometry.polygon.Polygon object at 0x00000151024DD630>]\n",
      " [17405 17405 26 30004.513804 1309974.39518\n",
      "  <shapely.geometry.polygon.Polygon object at 0x00000151024DDF98>]]\n"
     ]
    }
   ],
   "source": [
    "print(kathmandu_shapefile.values)"
   ]
  },
  {
   "cell_type": "code",
   "execution_count": null,
   "metadata": {},
   "outputs": [],
   "source": []
  },
  {
   "cell_type": "code",
   "execution_count": 160,
   "metadata": {},
   "outputs": [
    {
     "name": "stdout",
     "output_type": "stream",
     "text": [
      "<GeometryArray>\n",
      "[<shapely.geometry.polygon.Polygon object at 0x0000015101FE20F0>,\n",
      " <shapely.geometry.polygon.Polygon object at 0x0000015101FE2E80>,\n",
      " <shapely.geometry.polygon.Polygon object at 0x0000015101FE2E10>,\n",
      " <shapely.geometry.polygon.Polygon object at 0x0000015101FE2F60>,\n",
      " <shapely.geometry.polygon.Polygon object at 0x0000015101FE28D0>,\n",
      " <shapely.geometry.polygon.Polygon object at 0x0000015101FE2EF0>,\n",
      " <shapely.geometry.polygon.Polygon object at 0x0000015101FE2048>,\n",
      " <shapely.geometry.polygon.Polygon object at 0x0000015101FE2A90>,\n",
      " <shapely.geometry.polygon.Polygon object at 0x0000015101FE8160>,\n",
      " <shapely.geometry.polygon.Polygon object at 0x0000015101FE8240>,\n",
      " ...\n",
      " <shapely.geometry.polygon.Polygon object at 0x00000151024DD4E0>,\n",
      " <shapely.geometry.polygon.Polygon object at 0x00000151024DD518>,\n",
      " <shapely.geometry.polygon.Polygon object at 0x00000151024DD550>,\n",
      " <shapely.geometry.polygon.Polygon object at 0x00000151024DD588>,\n",
      " <shapely.geometry.polygon.Polygon object at 0x00000151024DD5C0>,\n",
      " <shapely.geometry.polygon.Polygon object at 0x00000151024DD128>,\n",
      " <shapely.geometry.polygon.Polygon object at 0x00000151024DD668>,\n",
      " <shapely.geometry.polygon.Polygon object at 0x00000151024DD748>,\n",
      " <shapely.geometry.polygon.Polygon object at 0x00000151024DD630>,\n",
      " <shapely.geometry.polygon.Polygon object at 0x00000151024DDF98>]\n",
      "Length: 17405, dtype: geometry\n"
     ]
    }
   ],
   "source": [
    "# this generates a list of shapely geometries\n",
    "geoms=kathmandu_shapefile.geometry.values\n",
    "print(geoms)"
   ]
  },
  {
   "cell_type": "code",
   "execution_count": 187,
   "metadata": {},
   "outputs": [
    {
     "name": "stdout",
     "output_type": "stream",
     "text": [
      "<class 'shapely.geometry.polygon.Polygon'>\n",
      "<class 'list'>\n",
      "[{'type': 'Polygon', 'coordinates': (((347181.09350611316, 3077934.320210689), (347181.0935061127, 3077964.3202106897), (347241.0935061133, 3077964.3202106897), (347241.0935061136, 3077934.320210689), (347181.09350611316, 3077934.320210689)),)}]\n"
     ]
    }
   ],
   "source": [
    "# let's grab a single shapely geometry to check\n",
    "geometry=geoms[0]\n",
    "print(type(geometry))\n",
    "\n",
    "# transform to GeoJSON format\n",
    "from shapely.geometry import mapping\n",
    "features=[mapping(geometry)]          # can also do this using polygon.__geo_interface__\n",
    "print(type(features))\n",
    "print(features)\n",
    "\n"
   ]
  },
  {
   "cell_type": "markdown",
   "metadata": {},
   "source": [
    "Now let's extract the raster values values within the polygon using the rasterio mask() function"
   ]
  },
  {
   "cell_type": "code",
   "execution_count": 192,
   "metadata": {},
   "outputs": [
    {
     "name": "stdout",
     "output_type": "stream",
     "text": [
      "(8, 2, 3)\n",
      "<class 'numpy.ndarray'>\n"
     ]
    }
   ],
   "source": [
    "out_raster,out_transform=mask(composite,features,crop=True)\n",
    "print(out_raster.shape)\n",
    "print(type(out_raster))"
   ]
  },
  {
   "cell_type": "markdown",
   "metadata": {},
   "source": [
    "\n",
    "\n",
    "Okay those looks like the right dimensions for our training data. 8 bands and 6x8 pixels seems reasonable given our earlier explorations.\n",
    "\n",
    "We'll be doing a lot of memory intensive work so let's clean up and close this dataset.\n"
   ]
  },
  {
   "cell_type": "code",
   "execution_count": 193,
   "metadata": {},
   "outputs": [],
   "source": [
    "composite.close()"
   ]
  },
  {
   "cell_type": "markdown",
   "metadata": {},
   "source": [
    "# Building the Training Data for scikit-learn\n",
    "\n",
    "Now let's do it for all features in the shapefile and create an array X that has all the pixels and an array y that has all the training labels.\n"
   ]
  },
  {
   "cell_type": "code",
   "execution_count": 212,
   "metadata": {},
   "outputs": [
    {
     "name": "stdout",
     "output_type": "stream",
     "text": [
      "8\n",
      "(8, 66, 76)\n",
      "(8, 1469)\n",
      "(8, 1469)\n",
      "(1469, 8)\n"
     ]
    }
   ],
   "source": [
    "X = np.array([], dtype=np.int8).reshape(0,8) # pixels for training\n",
    "y = np.array([], dtype=np.string_) # labels for training\n",
    "with rasterio.open(image_folder_path) as composite_1:\n",
    "    band_count = composite_1.count\n",
    "    print(band_count)\n",
    "    for index, geom in enumerate(geoms):\n",
    "        feature = [mapping(geom)]\n",
    "        \n",
    "    # the mask function returns an array of the raster pixels within this feature\n",
    "        out_image, out_transform = mask(composite_1, feature, crop=True) \n",
    "    # eliminate all the pixels with 0 values for all 8 bands - AKA not actually part of the shapefile\n",
    "        out_image_trimmed_1 = out_image[:,~np.all(out_image == 0, axis=0)]\n",
    "        \n",
    "    # eliminate all the pixels with 255 values for all 8 bands - AKA not actually part of the shapefile\n",
    "        out_image_trimmed_2 = out_image_trimmed_1[:,~np.all(out_image_trimmed_1 == 255, axis=0)]\n",
    "        \n",
    "    # reshape the array to [pixel count, bands]\n",
    "        out_image_reshaped = out_image_trimmed_2.reshape(-1, band_count)\n",
    "\n",
    "    #append the labels to the y array\n",
    "        y = np.append(y,[kathmandu_shapefile[\"Classname\"][index]] * out_image_reshaped.shape[0])  \n",
    "    # stack the pizels onto the pixel array\n",
    "        X = np.vstack((X,out_image_reshaped))     \n",
    "        \n",
    "print(out_image.shape)\n",
    "print(out_image_trimmed_1.shape)\n",
    "print(out_image_trimmed_2.shape)\n",
    "print(out_image_reshaped.shape)        "
   ]
  },
  {
   "cell_type": "code",
   "execution_count": 220,
   "metadata": {},
   "outputs": [
    {
     "name": "stdout",
     "output_type": "stream",
     "text": [
      "[[ 9033  8993  8407 ...  8201  7709  7859]\n",
      " [13549 14019 12377 ... 10279  7432  7995]\n",
      " [ 9242  9131  9148 ...  9056  8464  8371]\n",
      " ...\n",
      " [ 8568  8342  8237 ...  8440  8286  8393]\n",
      " [ 8396  8493  8428 ...  8227  8501  8398]\n",
      " [ 8483  8170  8099 ...  8325  8315  8400]]\n",
      "[b'1' b'12' b'12' b'1' b'1' b'1' b'1' b'1' b'1' b'1' b'1' b'1' b'1' b'1'\n",
      " b'1' b'1' b'1' b'1' b'1' b'1' b'1' b'1' b'1' b'1' b'1' b'1' b'26' b'1'\n",
      " b'1' b'1' b'1' b'1' b'1' b'1' b'26' b'1' b'26' b'1' b'1' b'1']\n"
     ]
    }
   ],
   "source": [
    "print(X)\n",
    "print(y[10:50])"
   ]
  },
  {
   "cell_type": "code",
   "execution_count": 223,
   "metadata": {},
   "outputs": [],
   "source": [
    "labels=np.unique(kathmandu_shapefile[\"Classname\"])"
   ]
  },
  {
   "cell_type": "code",
   "execution_count": 225,
   "metadata": {},
   "outputs": [
    {
     "name": "stdout",
     "output_type": "stream",
     "text": [
      "3\n"
     ]
    }
   ],
   "source": [
    "print(labels.size\n",
    "     )"
   ]
  },
  {
   "cell_type": "code",
   "execution_count": 226,
   "metadata": {},
   "outputs": [
    {
     "name": "stdout",
     "output_type": "stream",
     "text": [
      "The training data include 3 classes: [ 1 12 26]\n",
      "\n",
      "Our X matrix is sized: (459360, 8)\n",
      "Our y array is sized: (459360,)\n"
     ]
    }
   ],
   "source": [
    "# What are our classification labels?\n",
    "labels = np.unique(kathmandu_shapefile[\"Classname\"])\n",
    "print('The training data include {n} classes: {classes}\\n'.format(n=labels.size, \n",
    "                                                                classes=labels))\n",
    "\n",
    "# We will need a \"X\" matrix containing our features, and a \"y\" array containing our labels\n",
    "print('Our X matrix is sized: {sz}'.format(sz=X.shape))\n",
    "print('Our y array is sized: {sz}'.format(sz=y.shape))"
   ]
  },
  {
   "cell_type": "markdown",
   "metadata": {},
   "source": [
    "\n",
    "\n",
    "It all looks good! Let's explore the spectral signatures of each class now to make sure they're actually separable since all we're going by in this classification is pixel values.\n"
   ]
  },
  {
   "cell_type": "code",
   "execution_count": 231,
   "metadata": {},
   "outputs": [
    {
     "name": "stdout",
     "output_type": "stream",
     "text": [
      "[b'1' b'12' b'26']\n"
     ]
    },
    {
     "data": {
      "text/plain": [
       "Text(0.5, 1.0, 'Band Intensities Higher Ref Subset')"
      ]
     },
     "execution_count": 231,
     "metadata": {},
     "output_type": "execute_result"
    },
    {
     "data": {
      "image/png": "[encoded data removed]",
      "text/plain": [
       "<Figure size 1440x576 with 3 Axes>"
      ]
     },
     "metadata": {
      "needs_background": "light"
     },
     "output_type": "display_data"
    }
   ],
   "source": [
    "fig, ax = plt.subplots(1,3, figsize=[20,8])\n",
    "\n",
    "# numbers 1-8\n",
    "band_count = np.arange(1,9)\n",
    "\n",
    "classes = np.unique(y)\n",
    "print(classes)\n",
    "\n",
    "for class_type in classes:\n",
    "    band_intensity = np.mean(X[y==class_type, :], axis=0)\n",
    "    ax[0].plot(band_count, band_intensity, label=class_type)\n",
    "    ax[1].plot(band_count, band_intensity, label=class_type)\n",
    "    ax[2].plot(band_count, band_intensity, label=class_type)\n",
    "# plot them as lines\n",
    "\n",
    "# Add some axis labels\n",
    "ax[0].set_xlabel('Band #')\n",
    "ax[0].set_ylabel('Reflectance Value')\n",
    "ax[1].set_ylabel('Reflectance Value')\n",
    "ax[1].set_xlabel('Band #')\n",
    "ax[2].set_ylabel('Reflectance Value')\n",
    "ax[2].set_xlabel('Band #')\n",
    "#ax[0].set_ylim(32,38)\n",
    "ax[1].set_ylim(32,38)\n",
    "ax[2].set_ylim(70,140)\n",
    "#ax.set\n",
    "ax[1].legend(loc=\"upper right\")\n",
    "# Add a title\n",
    "ax[0].set_title('Band Intensities Full Overview')\n",
    "ax[1].set_title('Band Intensities Lower Ref Subset')\n",
    "ax[2].set_title('Band Intensities Higher Ref Subset')"
   ]
  },
  {
   "cell_type": "code",
   "execution_count": 258,
   "metadata": {},
   "outputs": [],
   "source": [
    "def str_class_to_int(class_array):\n",
    "    class_array[class_array == b'1'] = 0\n",
    "    class_array[class_array == b'12'] = 1\n",
    "    class_array[class_array == b'26'] = 2\n",
    "    return(class_array.astype(int))"
   ]
  },
  {
   "cell_type": "code",
   "execution_count": 259,
   "metadata": {},
   "outputs": [
    {
     "data": {
      "text/plain": [
       "GaussianNB(priors=None, var_smoothing=1e-09)"
      ]
     },
     "execution_count": 259,
     "metadata": {},
     "output_type": "execute_result"
    }
   ],
   "source": [
    "from sklearn.naive_bayes import GaussianNB\n",
    "\n",
    "gnb = GaussianNB()\n",
    "gnb.fit(X, y)"
   ]
  },
  {
   "cell_type": "code",
   "execution_count": 260,
   "metadata": {},
   "outputs": [],
   "source": [
    "from rasterio.plot import show\n",
    "from rasterio.plot import show_hist\n",
    "from rasterio.windows import Window\n",
    "from rasterio.plot import reshape_as_raster, reshape_as_image"
   ]
  },
  {
   "cell_type": "code",
   "execution_count": 261,
   "metadata": {},
   "outputs": [
    {
     "name": "stdout",
     "output_type": "stream",
     "text": [
      "(8, 450, 1150)\n",
      "(450, 1150, 8)\n"
     ]
    }
   ],
   "source": [
    "with rasterio.open(image_folder_path) as src:\n",
    "    # may need to reduce this image size if your kernel crashes, takes a lot of memory\n",
    "    img = src.read()[:, 150:600, 250:1400]\n",
    "\n",
    "# Take our full image and reshape into long 2d array (nrow * ncol, nband) for classification\n",
    "print(img.shape)\n",
    "reshaped_img = reshape_as_image(img)\n",
    "print(reshaped_img.shape)"
   ]
  },
  {
   "cell_type": "code",
   "execution_count": 262,
   "metadata": {},
   "outputs": [],
   "source": [
    "class_prediction = gnb.predict(reshaped_img.reshape(-1, 8))\n",
    "\n",
    "# Reshape our classification map back into a 2D matrix so we can visualize it\n",
    "class_prediction = class_prediction.reshape(reshaped_img[:, :, 0].shape)"
   ]
  },
  {
   "cell_type": "code",
   "execution_count": 264,
   "metadata": {},
   "outputs": [
    {
     "name": "stderr",
     "output_type": "stream",
     "text": [
      "C:\\Users\\user\\Anaconda3\\lib\\site-packages\\ipykernel_launcher.py:2: FutureWarning: elementwise comparison failed; returning scalar instead, but in the future will perform elementwise comparison\n",
      "  \n",
      "C:\\Users\\user\\Anaconda3\\lib\\site-packages\\ipykernel_launcher.py:3: FutureWarning: elementwise comparison failed; returning scalar instead, but in the future will perform elementwise comparison\n",
      "  This is separate from the ipykernel package so we can avoid doing imports until\n",
      "C:\\Users\\user\\Anaconda3\\lib\\site-packages\\ipykernel_launcher.py:4: FutureWarning: elementwise comparison failed; returning scalar instead, but in the future will perform elementwise comparison\n",
      "  after removing the cwd from sys.path.\n"
     ]
    }
   ],
   "source": [
    "class_prediction = str_class_to_int(class_prediction)"
   ]
  },
  {
   "cell_type": "code",
   "execution_count": 265,
   "metadata": {},
   "outputs": [],
   "source": [
    "def color_stretch(image, index):\n",
    "    colors = image[:, :, index].astype(np.float64)\n",
    "    for b in range(colors.shape[2]):\n",
    "        colors[:, :, b] = rasterio.plot.adjust_band(colors[:, :, b])\n",
    "    return colors\n",
    "    \n",
    "# find the highest pixel value in the prediction image\n",
    "n = int(np.max(class_prediction))\n",
    "\n",
    "# next setup a colormap for our map\n",
    "colors = dict((\n",
    "    (0, (48, 156, 214, 255)),   # Blue - Water\n",
    "    (1, (139,69,19, 255)),      # Brown - WetSand\n",
    "    (2, (96, 19, 134, 255)),    # Purple - Emergent Wetland\n",
    "\n",
    "))\n",
    "\n",
    "# Put 0 - 255 as float 0 - 1\n",
    "for k in colors:\n",
    "    v = colors[k]\n",
    "    _v = [_v / 255.0 for _v in v]\n",
    "    colors[k] = _v\n",
    "    \n",
    "index_colors = [colors[key] if key in colors else \n",
    "                (255, 255, 255, 0) for key in range(0, n+1)]\n",
    "\n",
    "cmap = plt.matplotlib.colors.ListedColormap(index_colors, 'Classification', n+1)"
   ]
  },
  {
   "cell_type": "code",
   "execution_count": 267,
   "metadata": {},
   "outputs": [
    {
     "name": "stderr",
     "output_type": "stream",
     "text": [
      "C:\\Users\\user\\Anaconda3\\lib\\site-packages\\ipykernel_launcher.py:8: UserWarning: Matplotlib is currently using module://ipykernel.pylab.backend_inline, which is a non-GUI backend, so cannot show the figure.\n",
      "  \n"
     ]
    },
    {
     "data": {
      "image/png": "[encoded data removed]",
      "text/plain": [
       "<Figure size 864x288 with 2 Axes>"
      ]
     },
     "metadata": {
      "needs_background": "light"
     },
     "output_type": "display_data"
    }
   ],
   "source": [
    "fig, axs = plt.subplots(2,1,figsize=(12,4))\n",
    "\n",
    "img_stretched = color_stretch(reshaped_img, [4, 3, 2])\n",
    "axs[0].imshow(img_stretched)\n",
    "\n",
    "axs[1].imshow(class_prediction, cmap=cmap, interpolation='none')\n",
    "\n",
    "fig.show()"
   ]
  },
  {
   "cell_type": "code",
   "execution_count": null,
   "metadata": {},
   "outputs": [],
   "source": []
  },
  {
   "cell_type": "code",
   "execution_count": null,
   "metadata": {},
   "outputs": [],
   "source": []
  }
 ],
 "metadata": {
  "kernelspec": {
   "display_name": "Python 3",
   "language": "python",
   "name": "python3"
  },
  "language_info": {
   "codemirror_mode": {
    "name": "ipython",
    "version": 3
   },
   "file_extension": ".py",
   "mimetype": "text/x-python",
   "name": "python",
   "nbconvert_exporter": "python",
   "pygments_lexer": "ipython3",
   "version": "3.7.3"
  }
 },
 "nbformat": 4,
 "nbformat_minor": 2
}
